{
 "cells": [
  {
   "cell_type": "markdown",
   "metadata": {},
   "source": [
    "# Operation Mind Shield: Decoding Alzheimer's\n",
    "#### **Full Name:** Shaheer Airaj Ahmed\n",
    "#### **Link to SDS Profile:** https://community.superdatascience.com/u/40cf28e1"
   ]
  },
  {
   "cell_type": "markdown",
   "metadata": {},
   "source": []
  }
 ],
 "metadata": {
  "language_info": {
   "name": "python"
  }
 },
 "nbformat": 4,
 "nbformat_minor": 2
}
